{
 "cells": [
  {
   "cell_type": "code",
   "execution_count": 31,
   "id": "def8343c-f81f-4327-81ad-8f6690913fac",
   "metadata": {
    "execution": {
     "iopub.execute_input": "2021-10-09T19:49:24.259519Z",
     "iopub.status.busy": "2021-10-09T19:49:24.258795Z",
     "iopub.status.idle": "2021-10-09T19:49:24.273194Z",
     "shell.execute_reply": "2021-10-09T19:49:24.270062Z",
     "shell.execute_reply.started": "2021-10-09T19:49:24.259432Z"
    },
    "tags": []
   },
   "outputs": [],
   "source": [
    "import importlib\n",
    "from functools import partial\n",
    "from random import random\n",
    "import networkx as nx\n",
    "import pandas as pd\n",
    "from pathlib import Path\n",
    "from dataclasses import fields"
   ]
  },
  {
   "cell_type": "code",
   "execution_count": 32,
   "id": "e98f4f69-45c1-40db-b295-7b23fc7659ca",
   "metadata": {
    "execution": {
     "iopub.execute_input": "2021-10-09T19:49:25.816216Z",
     "iopub.status.busy": "2021-10-09T19:49:25.815941Z",
     "iopub.status.idle": "2021-10-09T19:49:25.825182Z",
     "shell.execute_reply": "2021-10-09T19:49:25.824126Z",
     "shell.execute_reply.started": "2021-10-09T19:49:25.816188Z"
    },
    "tags": []
   },
   "outputs": [
    {
     "data": {
      "text/plain": [
       "<module 'simulation' from '/home/sandeep/abm-trust/new/simulation.py'>"
      ]
     },
     "execution_count": 32,
     "metadata": {},
     "output_type": "execute_result"
    }
   ],
   "source": [
    "import simulation as sm\n",
    "importlib.reload(sm)"
   ]
  },
  {
   "cell_type": "code",
   "execution_count": 33,
   "id": "140699ec-428a-42d4-be85-71f4cedcea5b",
   "metadata": {
    "execution": {
     "iopub.execute_input": "2021-10-09T19:49:27.445230Z",
     "iopub.status.busy": "2021-10-09T19:49:27.444927Z",
     "iopub.status.idle": "2021-10-09T19:49:27.470563Z",
     "shell.execute_reply": "2021-10-09T19:49:27.469863Z",
     "shell.execute_reply.started": "2021-10-09T19:49:27.445194Z"
    },
    "tags": []
   },
   "outputs": [],
   "source": [
    "graph = nx.barabasi_albert_graph(1000, 8)"
   ]
  },
  {
   "cell_type": "code",
   "execution_count": 34,
   "id": "b0605c93-8fdd-4fee-82d8-f60b63274deb",
   "metadata": {
    "execution": {
     "iopub.execute_input": "2021-10-09T19:49:42.857152Z",
     "iopub.status.busy": "2021-10-09T19:49:42.856525Z",
     "iopub.status.idle": "2021-10-09T19:49:42.882950Z",
     "shell.execute_reply": "2021-10-09T19:49:42.881231Z",
     "shell.execute_reply.started": "2021-10-09T19:49:42.857076Z"
    },
    "tags": []
   },
   "outputs": [
    {
     "ename": "KeyError",
     "evalue": "'graph_path'",
     "output_type": "error",
     "traceback": [
      "\u001b[0;31m---------------------------------------------------------------------------\u001b[0m",
      "\u001b[0;31mKeyError\u001b[0m                                  Traceback (most recent call last)",
      "\u001b[0;32m/tmp/ipykernel_316811/3948362560.py\u001b[0m in \u001b[0;36m<module>\u001b[0;34m\u001b[0m\n\u001b[1;32m      1\u001b[0m \u001b[0msm\u001b[0m\u001b[0;34m.\u001b[0m\u001b[0mgraph_name\u001b[0m \u001b[0;34m=\u001b[0m \u001b[0;34m'test.graph'\u001b[0m\u001b[0;34m\u001b[0m\u001b[0;34m\u001b[0m\u001b[0m\n\u001b[0;32m----> 2\u001b[0;31m \u001b[0mmodel\u001b[0m \u001b[0;34m=\u001b[0m \u001b[0msm\u001b[0m\u001b[0;34m.\u001b[0m\u001b[0msetup_model\u001b[0m\u001b[0;34m(\u001b[0m\u001b[0;34m)\u001b[0m\u001b[0;34m\u001b[0m\u001b[0;34m\u001b[0m\u001b[0m\n\u001b[0m",
      "\u001b[0;32m~/abm-trust/new/simulation.py\u001b[0m in \u001b[0;36msetup_model\u001b[0;34m()\u001b[0m\n\u001b[1;32m    271\u001b[0m \u001b[0;34m\u001b[0m\u001b[0m\n\u001b[1;32m    272\u001b[0m     \u001b[0;31m# read graph for creating the social network of agents\u001b[0m\u001b[0;34m\u001b[0m\u001b[0;34m\u001b[0m\u001b[0m\n\u001b[0;32m--> 273\u001b[0;31m     \u001b[0mgraph\u001b[0m \u001b[0;34m=\u001b[0m \u001b[0mnx\u001b[0m\u001b[0;34m.\u001b[0m\u001b[0mread_gpickle\u001b[0m\u001b[0;34m(\u001b[0m\u001b[0mconfig\u001b[0m\u001b[0;34m[\u001b[0m\u001b[0;34m\"graph_path\"\u001b[0m\u001b[0;34m]\u001b[0m\u001b[0;34m)\u001b[0m\u001b[0;34m\u001b[0m\u001b[0;34m\u001b[0m\u001b[0m\n\u001b[0m\u001b[1;32m    274\u001b[0m \u001b[0;34m\u001b[0m\u001b[0m\n\u001b[1;32m    275\u001b[0m     \u001b[0;31m# payoff_calculator for the model\u001b[0m\u001b[0;34m\u001b[0m\u001b[0;34m\u001b[0m\u001b[0m\n",
      "\u001b[0;31mKeyError\u001b[0m: 'graph_path'"
     ]
    }
   ],
   "source": [
    "sm.graph_name = 'test.graph'\n",
    "model = sm.setup_model()"
   ]
  },
  {
   "cell_type": "code",
   "execution_count": null,
   "id": "be9a8004-5a12-45eb-ab1d-a84c57461410",
   "metadata": {
    "tags": []
   },
   "outputs": [],
   "source": [
    "for i in range(500):\n",
    "    model.step()\n",
    "    model.collect_data()"
   ]
  },
  {
   "cell_type": "code",
   "execution_count": null,
   "id": "c4493dd1-56fa-473c-a597-3cb5248a49a1",
   "metadata": {
    "tags": []
   },
   "outputs": [],
   "source": [
    "model_df = model.datacollector.get_model_vars_dataframe()"
   ]
  },
  {
   "cell_type": "code",
   "execution_count": 65,
   "id": "674a7a7b-6b35-4ea0-87aa-b06be61e1a9c",
   "metadata": {
    "execution": {
     "iopub.execute_input": "2021-10-09T20:37:47.945432Z",
     "iopub.status.busy": "2021-10-09T20:37:47.945037Z",
     "iopub.status.idle": "2021-10-09T20:37:47.960340Z",
     "shell.execute_reply": "2021-10-09T20:37:47.959632Z",
     "shell.execute_reply.started": "2021-10-09T20:37:47.945401Z"
    },
    "tags": []
   },
   "outputs": [],
   "source": [
    "from itertools import product\n",
    "from pathlib import Path\n",
    "\n",
    "# write config file\n",
    "def write_params_file(params, fname):\n",
    "    with open(fname, 'w', encoding='utf-8') as f:\n",
    "        for k,v in params:\n",
    "            f.write(f'--{k}={v}')\n",
    "\n",
    "costs = [x/10 for x in range(0, 10)]\n",
    "num_groups = [10]\n",
    "#num_groups = [10, 20, 50]\n",
    "num_tags = [2]\n",
    "#num_tags = [2, 3, 5]\n",
    "migration_wait_periods = [0]\n",
    "#migration_wait_periods = [0, 2]\n",
    "trust_thresholds = [0.1, 0.3, 0.5, 0.7, 0.9]\n",
    "\n",
    "params = {\n",
    "    \"num_agents\": 1000,\n",
    "    \"game_type\": \"NISD\",\n",
    "    \"mutation_prob\": 0.01,\n",
    "    \"timesteps\": 2000,\n",
    "    \"runs\": 50,\n",
    "    \"data_to_save\": 0.25,\n",
    "    \"max_group_ratio\": 0.25,\n",
    "    \"decay\": 0.05,\n",
    "    \"cooperation_threshold\": 0.5,\n",
    "    \"output_dir\": \"results\",\n",
    "    \"graph_path\": 'networks/sn_d8.graph',\n",
    "    \"migrate\": True,\n",
    "    'cost': 0.1,\n",
    "    'num_groups': 10,\n",
    "    'num_tags': 2,\n",
    "    'trust_threshold': 0.5,\n",
    "    'migration_wait_period': 0,\n",
    "}\n",
    "\n",
    "param_combinations = list(product(costs, num_groups, num_tags, migration_wait_periods, trust_thresholds))\n",
    "for c, ng, nt, mwp, th in param_combinations:\n",
    "    run_id = hash((c, ng, nt, mwp, th)) % (2 ** 31 - 1)\n",
    "    params['run_id'] = run_id\n",
    "    \n",
    "    params.update({'cost': c, 'num_groups': ng, 'num_tags': nt, 'migration_wait_period': mwp, 'trust_threshold': th})\n",
    "    \n",
    "    params_fname =f\"{params['output_dir']}/{run_id}.params\"\n",
    "    path = Path(params_fname)\n",
    "    assert not path.exists(), \"file already exists\"\n",
    "    \n",
    "    with open(params_fname, 'w', encoding='utf-8') as f:\n",
    "        f.writelines((f'--{k}={v}\\n' for k,v in params.items()))"
   ]
  },
  {
   "cell_type": "code",
   "execution_count": 66,
   "id": "73753c44-ffe2-42fe-9b9c-1d0614621325",
   "metadata": {
    "execution": {
     "iopub.execute_input": "2021-10-09T23:11:59.506434Z",
     "iopub.status.busy": "2021-10-09T23:11:59.506207Z",
     "iopub.status.idle": "2021-10-09T23:11:59.509705Z",
     "shell.execute_reply": "2021-10-09T23:11:59.509139Z",
     "shell.execute_reply.started": "2021-10-09T23:11:59.506408Z"
    }
   },
   "outputs": [],
   "source": [
    "from games import GameType"
   ]
  },
  {
   "cell_type": "code",
   "execution_count": 68,
   "id": "25dd1ee5-77b8-43b8-bdf3-dae39d850412",
   "metadata": {
    "execution": {
     "iopub.execute_input": "2021-10-09T23:13:21.414205Z",
     "iopub.status.busy": "2021-10-09T23:13:21.413976Z",
     "iopub.status.idle": "2021-10-09T23:13:21.417761Z",
     "shell.execute_reply": "2021-10-09T23:13:21.416971Z",
     "shell.execute_reply.started": "2021-10-09T23:13:21.414180Z"
    },
    "tags": []
   },
   "outputs": [],
   "source": [
    "game_type = GameType(\"nisd\")"
   ]
  },
  {
   "cell_type": "code",
   "execution_count": 69,
   "id": "3780c6f4-71ff-4d02-aa9a-eaaa4874f621",
   "metadata": {
    "execution": {
     "iopub.execute_input": "2021-10-09T23:13:24.829414Z",
     "iopub.status.busy": "2021-10-09T23:13:24.828777Z",
     "iopub.status.idle": "2021-10-09T23:13:24.841998Z",
     "shell.execute_reply": "2021-10-09T23:13:24.839754Z",
     "shell.execute_reply.started": "2021-10-09T23:13:24.829339Z"
    }
   },
   "outputs": [
    {
     "data": {
      "text/plain": [
       "<GameType.NISD: 'nisd'>"
      ]
     },
     "execution_count": 69,
     "metadata": {},
     "output_type": "execute_result"
    }
   ],
   "source": [
    "game_type"
   ]
  },
  {
   "cell_type": "code",
   "execution_count": 71,
   "id": "e4af6cfc-19bf-4c84-b235-c90f46c974ce",
   "metadata": {
    "execution": {
     "iopub.execute_input": "2021-10-09T23:14:27.358888Z",
     "iopub.status.busy": "2021-10-09T23:14:27.358106Z",
     "iopub.status.idle": "2021-10-09T23:14:27.368488Z",
     "shell.execute_reply": "2021-10-09T23:14:27.367493Z",
     "shell.execute_reply.started": "2021-10-09T23:14:27.358806Z"
    },
    "tags": []
   },
   "outputs": [
    {
     "data": {
      "text/plain": [
       "<GameType.NISD: 'nisd'>"
      ]
     },
     "execution_count": 71,
     "metadata": {},
     "output_type": "execute_result"
    }
   ],
   "source": [
    "GameType(\"NISD\".lower())"
   ]
  },
  {
   "cell_type": "code",
   "execution_count": 87,
   "id": "b9e3d92a-24c6-4b8f-bc41-f8c0a153c65e",
   "metadata": {
    "execution": {
     "iopub.execute_input": "2021-10-10T00:26:38.009143Z",
     "iopub.status.busy": "2021-10-10T00:26:38.007112Z",
     "iopub.status.idle": "2021-10-10T00:26:38.042584Z",
     "shell.execute_reply": "2021-10-10T00:26:38.039459Z",
     "shell.execute_reply.started": "2021-10-10T00:26:38.008983Z"
    },
    "tags": []
   },
   "outputs": [],
   "source": [
    "df = pd.read_parquet('../results/group_trust_migration/2084091263_3_group.parquet')"
   ]
  },
  {
   "cell_type": "code",
   "execution_count": 85,
   "id": "e6cd1a85-fa31-400d-b25c-34c5ca795a7a",
   "metadata": {
    "execution": {
     "iopub.execute_input": "2021-10-10T00:25:28.150138Z",
     "iopub.status.busy": "2021-10-10T00:25:28.149563Z",
     "iopub.status.idle": "2021-10-10T00:25:28.166975Z",
     "shell.execute_reply": "2021-10-10T00:25:28.166025Z",
     "shell.execute_reply.started": "2021-10-10T00:25:28.150096Z"
    },
    "tags": []
   },
   "outputs": [
    {
     "name": "stdout",
     "output_type": "stream",
     "text": [
      "<class 'pandas.core.frame.DataFrame'>\n",
      "MultiIndex: 500 entries, (0, 151) to (9, 200)\n",
      "Data columns (total 3 columns):\n",
      " #   Column           Non-Null Count  Dtype  \n",
      "---  ------           --------------  -----  \n",
      " 0   size             500 non-null    float64\n",
      " 1   cooperators      500 non-null    float64\n",
      " 2   trustworthiness  500 non-null    float64\n",
      "dtypes: float64(3)\n",
      "memory usage: 15.6 KB\n"
     ]
    }
   ],
   "source": [
    "df.info()"
   ]
  },
  {
   "cell_type": "code",
   "execution_count": 88,
   "id": "77223d52-7552-4d42-a310-b1f217028937",
   "metadata": {
    "execution": {
     "iopub.execute_input": "2021-10-10T00:26:41.829804Z",
     "iopub.status.busy": "2021-10-10T00:26:41.829573Z",
     "iopub.status.idle": "2021-10-10T00:26:41.844269Z",
     "shell.execute_reply": "2021-10-10T00:26:41.843507Z",
     "shell.execute_reply.started": "2021-10-10T00:26:41.829782Z"
    },
    "tags": []
   },
   "outputs": [
    {
     "data": {
      "text/html": [
       "<div>\n",
       "<style scoped>\n",
       "    .dataframe tbody tr th:only-of-type {\n",
       "        vertical-align: middle;\n",
       "    }\n",
       "\n",
       "    .dataframe tbody tr th {\n",
       "        vertical-align: top;\n",
       "    }\n",
       "\n",
       "    .dataframe thead th {\n",
       "        text-align: right;\n",
       "    }\n",
       "</style>\n",
       "<table border=\"1\" class=\"dataframe\">\n",
       "  <thead>\n",
       "    <tr style=\"text-align: right;\">\n",
       "      <th></th>\n",
       "      <th></th>\n",
       "      <th>size</th>\n",
       "      <th>cooperators</th>\n",
       "      <th>trustworthiness</th>\n",
       "    </tr>\n",
       "    <tr>\n",
       "      <th>group</th>\n",
       "      <th>timestep</th>\n",
       "      <th></th>\n",
       "      <th></th>\n",
       "      <th></th>\n",
       "    </tr>\n",
       "  </thead>\n",
       "  <tbody>\n",
       "    <tr>\n",
       "      <th rowspan=\"5\" valign=\"top\">0</th>\n",
       "      <th>151</th>\n",
       "      <td>95.0</td>\n",
       "      <td>62.745098</td>\n",
       "      <td>0.517363</td>\n",
       "    </tr>\n",
       "    <tr>\n",
       "      <th>152</th>\n",
       "      <td>102.0</td>\n",
       "      <td>58.947368</td>\n",
       "      <td>0.449758</td>\n",
       "    </tr>\n",
       "    <tr>\n",
       "      <th>153</th>\n",
       "      <td>97.0</td>\n",
       "      <td>50.000000</td>\n",
       "      <td>0.504006</td>\n",
       "    </tr>\n",
       "    <tr>\n",
       "      <th>154</th>\n",
       "      <td>90.0</td>\n",
       "      <td>51.546392</td>\n",
       "      <td>0.509978</td>\n",
       "    </tr>\n",
       "    <tr>\n",
       "      <th>155</th>\n",
       "      <td>73.0</td>\n",
       "      <td>64.444444</td>\n",
       "      <td>0.589870</td>\n",
       "    </tr>\n",
       "    <tr>\n",
       "      <th>...</th>\n",
       "      <th>...</th>\n",
       "      <td>...</td>\n",
       "      <td>...</td>\n",
       "      <td>...</td>\n",
       "    </tr>\n",
       "    <tr>\n",
       "      <th rowspan=\"5\" valign=\"top\">9</th>\n",
       "      <th>196</th>\n",
       "      <td>103.0</td>\n",
       "      <td>60.185185</td>\n",
       "      <td>0.470846</td>\n",
       "    </tr>\n",
       "    <tr>\n",
       "      <th>197</th>\n",
       "      <td>93.0</td>\n",
       "      <td>59.223301</td>\n",
       "      <td>0.501160</td>\n",
       "    </tr>\n",
       "    <tr>\n",
       "      <th>198</th>\n",
       "      <td>88.0</td>\n",
       "      <td>51.612903</td>\n",
       "      <td>0.483898</td>\n",
       "    </tr>\n",
       "    <tr>\n",
       "      <th>199</th>\n",
       "      <td>91.0</td>\n",
       "      <td>38.636364</td>\n",
       "      <td>0.411685</td>\n",
       "    </tr>\n",
       "    <tr>\n",
       "      <th>200</th>\n",
       "      <td>98.0</td>\n",
       "      <td>54.945055</td>\n",
       "      <td>0.406334</td>\n",
       "    </tr>\n",
       "  </tbody>\n",
       "</table>\n",
       "<p>500 rows × 3 columns</p>\n",
       "</div>"
      ],
      "text/plain": [
       "                 size  cooperators  trustworthiness\n",
       "group timestep                                     \n",
       "0     151        95.0    62.745098         0.517363\n",
       "      152       102.0    58.947368         0.449758\n",
       "      153        97.0    50.000000         0.504006\n",
       "      154        90.0    51.546392         0.509978\n",
       "      155        73.0    64.444444         0.589870\n",
       "...               ...          ...              ...\n",
       "9     196       103.0    60.185185         0.470846\n",
       "      197        93.0    59.223301         0.501160\n",
       "      198        88.0    51.612903         0.483898\n",
       "      199        91.0    38.636364         0.411685\n",
       "      200        98.0    54.945055         0.406334\n",
       "\n",
       "[500 rows x 3 columns]"
      ]
     },
     "execution_count": 88,
     "metadata": {},
     "output_type": "execute_result"
    }
   ],
   "source": [
    "df"
   ]
  },
  {
   "cell_type": "code",
   "execution_count": 89,
   "id": "dfcd2d67-2ec6-42ce-a40c-a70bcb3befe5",
   "metadata": {
    "execution": {
     "iopub.execute_input": "2021-10-10T02:35:23.688752Z",
     "iopub.status.busy": "2021-10-10T02:35:23.686759Z",
     "iopub.status.idle": "2021-10-10T02:35:23.697149Z",
     "shell.execute_reply": "2021-10-10T02:35:23.694712Z",
     "shell.execute_reply.started": "2021-10-10T02:35:23.688659Z"
    }
   },
   "outputs": [],
   "source": [
    "import numpy as np"
   ]
  },
  {
   "cell_type": "code",
   "execution_count": 90,
   "id": "393ef32a-379b-46cd-a45f-1fe61f2d4e47",
   "metadata": {
    "execution": {
     "iopub.execute_input": "2021-10-10T02:35:34.772329Z",
     "iopub.status.busy": "2021-10-10T02:35:34.771975Z",
     "iopub.status.idle": "2021-10-10T02:35:34.776349Z",
     "shell.execute_reply": "2021-10-10T02:35:34.775670Z",
     "shell.execute_reply.started": "2021-10-10T02:35:34.772290Z"
    }
   },
   "outputs": [],
   "source": [
    "np.random.seed(480321_2)"
   ]
  },
  {
   "cell_type": "code",
   "execution_count": 91,
   "id": "23cf5ed8-071f-4cc0-9c32-67fff73b8494",
   "metadata": {
    "execution": {
     "iopub.execute_input": "2021-10-10T02:35:45.653390Z",
     "iopub.status.busy": "2021-10-10T02:35:45.652770Z",
     "iopub.status.idle": "2021-10-10T02:35:45.663757Z",
     "shell.execute_reply": "2021-10-10T02:35:45.662556Z",
     "shell.execute_reply.started": "2021-10-10T02:35:45.653316Z"
    }
   },
   "outputs": [
    {
     "data": {
      "text/plain": [
       "0.1677596061483343"
      ]
     },
     "execution_count": 91,
     "metadata": {},
     "output_type": "execute_result"
    }
   ],
   "source": [
    "np.random.rand()"
   ]
  },
  {
   "cell_type": "code",
   "execution_count": null,
   "id": "b96449ed-c6dd-47d7-be42-77464b26e109",
   "metadata": {},
   "outputs": [],
   "source": []
  }
 ],
 "metadata": {
  "kernelspec": {
   "display_name": "abm-trust2",
   "language": "python",
   "name": "abm-trust2"
  },
  "language_info": {
   "codemirror_mode": {
    "name": "ipython",
    "version": 3
   },
   "file_extension": ".py",
   "mimetype": "text/x-python",
   "name": "python",
   "nbconvert_exporter": "python",
   "pygments_lexer": "ipython3",
   "version": "3.9.7"
  }
 },
 "nbformat": 4,
 "nbformat_minor": 5
}
