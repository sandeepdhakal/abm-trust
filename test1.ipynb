{
 "cells": [
  {
   "cell_type": "code",
   "execution_count": 102,
   "id": "0b57d7ab-a89b-498f-9d2d-9d77e5d84d26",
   "metadata": {
    "execution": {
     "iopub.execute_input": "2021-10-02T06:14:14.001373Z",
     "iopub.status.busy": "2021-10-02T06:14:14.000398Z",
     "iopub.status.idle": "2021-10-02T06:14:14.008833Z",
     "shell.execute_reply": "2021-10-02T06:14:14.007587Z",
     "shell.execute_reply.started": "2021-10-02T06:14:14.001246Z"
    },
    "tags": []
   },
   "outputs": [],
   "source": [
    "from random import random, choice\n",
    "from math import ceil"
   ]
  },
  {
   "cell_type": "code",
   "execution_count": 99,
   "id": "7d14e201-c255-46ab-81f9-a5826af52c88",
   "metadata": {
    "execution": {
     "iopub.execute_input": "2021-10-02T03:20:03.982809Z",
     "iopub.status.busy": "2021-10-02T03:20:03.982112Z",
     "iopub.status.idle": "2021-10-02T03:20:03.993461Z",
     "shell.execute_reply": "2021-10-02T03:20:03.991226Z",
     "shell.execute_reply.started": "2021-10-02T03:20:03.982729Z"
    }
   },
   "outputs": [],
   "source": [
    "game = Game(GameType.NISD)"
   ]
  },
  {
   "cell_type": "code",
   "execution_count": 101,
   "id": "b52d1659-ef02-4667-9512-640f77bdee46",
   "metadata": {
    "execution": {
     "iopub.execute_input": "2021-10-02T06:14:07.570826Z",
     "iopub.status.busy": "2021-10-02T06:14:07.570205Z",
     "iopub.status.idle": "2021-10-02T06:14:07.577680Z",
     "shell.execute_reply": "2021-10-02T06:14:07.576442Z",
     "shell.execute_reply.started": "2021-10-02T06:14:07.570747Z"
    },
    "tags": []
   },
   "outputs": [],
   "source": [
    "l = [x for x in range(10)]"
   ]
  },
  {
   "cell_type": "code",
   "execution_count": 103,
   "id": "474e6d25-6c4e-4370-80da-f712b5f37d99",
   "metadata": {
    "execution": {
     "iopub.execute_input": "2021-10-02T06:14:19.252912Z",
     "iopub.status.busy": "2021-10-02T06:14:19.252453Z",
     "iopub.status.idle": "2021-10-02T06:14:19.257484Z",
     "shell.execute_reply": "2021-10-02T06:14:19.256963Z",
     "shell.execute_reply.started": "2021-10-02T06:14:19.252872Z"
    }
   },
   "outputs": [
    {
     "data": {
      "text/plain": [
       "9"
      ]
     },
     "execution_count": 103,
     "metadata": {},
     "output_type": "execute_result"
    }
   ],
   "source": [
    "choice(l)"
   ]
  },
  {
   "cell_type": "code",
   "execution_count": 106,
   "id": "ce56b1ab-f7bb-40bb-a4e9-c2249e1c0cc5",
   "metadata": {
    "execution": {
     "iopub.execute_input": "2021-10-02T06:14:59.397451Z",
     "iopub.status.busy": "2021-10-02T06:14:59.397033Z",
     "iopub.status.idle": "2021-10-02T06:14:59.408464Z",
     "shell.execute_reply": "2021-10-02T06:14:59.407510Z",
     "shell.execute_reply.started": "2021-10-02T06:14:59.397401Z"
    },
    "tags": []
   },
   "outputs": [
    {
     "ename": "TypeError",
     "evalue": "'set' object is not subscriptable",
     "output_type": "error",
     "traceback": [
      "\u001b[0;31m---------------------------------------------------------------------------\u001b[0m",
      "\u001b[0;31mTypeError\u001b[0m                                 Traceback (most recent call last)",
      "\u001b[0;32m/tmp/ipykernel_419684/2424521001.py\u001b[0m in \u001b[0;36m<module>\u001b[0;34m\u001b[0m\n\u001b[0;32m----> 1\u001b[0;31m \u001b[0mchoice\u001b[0m\u001b[0;34m(\u001b[0m\u001b[0mset\u001b[0m\u001b[0;34m(\u001b[0m\u001b[0ml\u001b[0m\u001b[0;34m)\u001b[0m\u001b[0;34m)\u001b[0m\u001b[0;34m\u001b[0m\u001b[0;34m\u001b[0m\u001b[0m\n\u001b[0m",
      "\u001b[0;32m/usr/lib/python3.9/random.py\u001b[0m in \u001b[0;36mchoice\u001b[0;34m(self, seq)\u001b[0m\n\u001b[1;32m    344\u001b[0m         \u001b[0;34m\"\"\"Choose a random element from a non-empty sequence.\"\"\"\u001b[0m\u001b[0;34m\u001b[0m\u001b[0;34m\u001b[0m\u001b[0m\n\u001b[1;32m    345\u001b[0m         \u001b[0;31m# raises IndexError if seq is empty\u001b[0m\u001b[0;34m\u001b[0m\u001b[0;34m\u001b[0m\u001b[0m\n\u001b[0;32m--> 346\u001b[0;31m         \u001b[0;32mreturn\u001b[0m \u001b[0mseq\u001b[0m\u001b[0;34m[\u001b[0m\u001b[0mself\u001b[0m\u001b[0;34m.\u001b[0m\u001b[0m_randbelow\u001b[0m\u001b[0;34m(\u001b[0m\u001b[0mlen\u001b[0m\u001b[0;34m(\u001b[0m\u001b[0mseq\u001b[0m\u001b[0;34m)\u001b[0m\u001b[0;34m)\u001b[0m\u001b[0;34m]\u001b[0m\u001b[0;34m\u001b[0m\u001b[0;34m\u001b[0m\u001b[0m\n\u001b[0m\u001b[1;32m    347\u001b[0m \u001b[0;34m\u001b[0m\u001b[0m\n\u001b[1;32m    348\u001b[0m     \u001b[0;32mdef\u001b[0m \u001b[0mshuffle\u001b[0m\u001b[0;34m(\u001b[0m\u001b[0mself\u001b[0m\u001b[0;34m,\u001b[0m \u001b[0mx\u001b[0m\u001b[0;34m,\u001b[0m \u001b[0mrandom\u001b[0m\u001b[0;34m=\u001b[0m\u001b[0;32mNone\u001b[0m\u001b[0;34m)\u001b[0m\u001b[0;34m:\u001b[0m\u001b[0;34m\u001b[0m\u001b[0;34m\u001b[0m\u001b[0m\n",
      "\u001b[0;31mTypeError\u001b[0m: 'set' object is not subscriptable"
     ]
    }
   ],
   "source": [
    "choice"
   ]
  },
  {
   "cell_type": "code",
   "execution_count": null,
   "id": "2674ff92-ab88-4dd1-9067-8bfb6cd022d8",
   "metadata": {},
   "outputs": [],
   "source": []
  }
 ],
 "metadata": {
  "kernelspec": {
   "display_name": "abm-trust2",
   "language": "python",
   "name": "abm-trust2"
  },
  "language_info": {
   "codemirror_mode": {
    "name": "ipython",
    "version": 3
   },
   "file_extension": ".py",
   "mimetype": "text/x-python",
   "name": "python",
   "nbconvert_exporter": "python",
   "pygments_lexer": "ipython3",
   "version": "3.9.7"
  }
 },
 "nbformat": 4,
 "nbformat_minor": 5
}
